{
  "cells": [
    {
      "cell_type": "code",
      "execution_count": 1,
      "metadata": {
        "colab": {
          "base_uri": "https://localhost:8080/"
        },
        "id": "vqmiFd1NjPRd",
        "outputId": "043c8ad3-c4e9-44d5-f1ab-6195ef9269e7"
      },
      "outputs": [
        {
          "output_type": "stream",
          "name": "stdout",
          "text": [
            "Requirement already satisfied: pyspark in /usr/local/lib/python3.10/dist-packages (3.4.1)\n",
            "Requirement already satisfied: py4j==0.10.9.7 in /usr/local/lib/python3.10/dist-packages (from pyspark) (0.10.9.7)\n"
          ]
        }
      ],
      "source": [
        "%pip install pyspark"
      ]
    },
    {
      "cell_type": "code",
      "execution_count": 2,
      "metadata": {
        "colab": {
          "base_uri": "https://localhost:8080/",
          "height": 197
        },
        "id": "R1G8GzGvja9V",
        "outputId": "c1d32962-4888-40cf-985f-26466f2e2e13"
      },
      "outputs": [
        {
          "output_type": "execute_result",
          "data": {
            "text/plain": [
              "<SparkContext master=local[*] appName=iic2440>"
            ],
            "text/html": [
              "\n",
              "        <div>\n",
              "            <p><b>SparkContext</b></p>\n",
              "\n",
              "            <p><a href=\"http://deaa1adc2c25:4040\">Spark UI</a></p>\n",
              "\n",
              "            <dl>\n",
              "              <dt>Version</dt>\n",
              "                <dd><code>v3.4.1</code></dd>\n",
              "              <dt>Master</dt>\n",
              "                <dd><code>local[*]</code></dd>\n",
              "              <dt>AppName</dt>\n",
              "                <dd><code>iic2440</code></dd>\n",
              "            </dl>\n",
              "        </div>\n",
              "        "
            ]
          },
          "metadata": {},
          "execution_count": 2
        }
      ],
      "source": [
        "from pyspark.sql import SparkSession\n",
        "from pyspark.sql.functions import *\n",
        "from pyspark.sql.types import *\n",
        "from operator import add, abs\n",
        "\n",
        "\n",
        "spark=SparkSession.builder.config(\"spark.driver.memory\", \"15g\").appName(\"iic2440\").getOrCreate()\n",
        "\n",
        "sc = spark.sparkContext\n",
        "sc"
      ]
    },
    {
      "cell_type": "markdown",
      "metadata": {
        "id": "D91Gd4fbK56T"
      },
      "source": [
        "going to assume that nodes always start on 1 and don't skip numbers"
      ]
    },
    {
      "cell_type": "code",
      "execution_count": 3,
      "metadata": {
        "id": "YVOB55RTgsNE"
      },
      "outputs": [],
      "source": [
        "edges = [(1, 2, 10), (2, 3, 3), (2, 4, 24), (3, 2, 1)]"
      ]
    },
    {
      "cell_type": "code",
      "source": [
        "def single_source_shortest_path(edges, initialNode = 1):\n",
        "  rdd_edges = sc.parallelize(edges)\n",
        "  rdd_accumulated = rdd_edges.flatMap(lambda x: x[:2]).distinct().map(lambda n: (n, 0) if n == initialNode else (n, float('inf')))\n",
        "\n",
        "  delta = 1\n",
        "  i = 0\n",
        "  while delta > 0:\n",
        "    rdd_final_msgs = rdd_edges.map(lambda x: (x[0], (x[1], x[2]))).join(rdd_accumulated).values().map(lambda x: (x[0][0], x[0][1] + x[1])).reduceByKey(lambda x,y: x if x < y else y)\n",
        "    new_rdd_accumulated = rdd_accumulated.leftOuterJoin(rdd_final_msgs).mapValues(lambda l: [float('inf') if x is None else x for x in l]).mapValues(lambda x: x[0] if x[0] < x[1] else x[1])\n",
        "    delta = rdd_accumulated.join(new_rdd_accumulated).mapValues(lambda x: x[1] != x[0]).values().sum() #this is 0 if there were no changes\n",
        "    rdd_accumulated = new_rdd_accumulated\n",
        "    i += 1\n",
        "    print('iter', i)\n",
        "    print('delta', delta)\n",
        "    print('-----')\n",
        "  return rdd_accumulated.collect()\n",
        "\n",
        "def single_source_shortest_path_non_optimized(edges, initialNode = 1):\n",
        "  rdd_edges = sc.parallelize(edges)\n",
        "  rdd_nodes = rdd_edges.flatMap(lambda x: x[:2]).distinct()\n",
        "  rdd_accumulated = rdd_nodes.map(lambda n: (n, 0) if n == initialNode else (n, float('inf')))\n",
        "\n",
        "  delta = 1\n",
        "  i = 0\n",
        "  while delta > 0:\n",
        "    rdd_edges_prejoin = rdd_edges.map(lambda x: (x[0], (x[1], x[2])))\n",
        "    rdd_all_msgs = rdd_edges_prejoin.join(rdd_accumulated).values().map(lambda x: (x[0][0], x[0][1] + x[1]))\n",
        "    rdd_final_msgs = rdd_all_msgs.reduceByKey(lambda x,y: x if x < y else y)\n",
        "    new_rdd_accumulated = rdd_accumulated.leftOuterJoin(rdd_final_msgs).mapValues(lambda l: [float('inf') if x is None else x for x in l]).mapValues(lambda x: x[0] if x[0] < x[1] else x[1])\n",
        "    delta = rdd_accumulated.join(new_rdd_accumulated).mapValues(lambda x: x[1] != x[0]).values().sum() #this is 0 if there were no changes\n",
        "    rdd_accumulated = new_rdd_accumulated\n",
        "    i += 1\n",
        "    print('iter', i)\n",
        "    print('delta', delta)\n",
        "    print('-----')\n",
        "  return rdd_accumulated.collect()\n"
      ],
      "metadata": {
        "id": "yfLfTv6o6j8D"
      },
      "execution_count": 4,
      "outputs": []
    },
    {
      "cell_type": "code",
      "source": [
        "single_source_shortest_path(edges)"
      ],
      "metadata": {
        "colab": {
          "base_uri": "https://localhost:8080/"
        },
        "id": "JB0gY22M8Z1w",
        "outputId": "5e348bdb-3f9a-4edd-9aa5-63dbe079da16"
      },
      "execution_count": 5,
      "outputs": [
        {
          "output_type": "stream",
          "name": "stdout",
          "text": [
            "iter 1\n",
            "delta 1\n",
            "-----\n",
            "iter 2\n",
            "delta 2\n",
            "-----\n",
            "iter 3\n",
            "delta 0\n",
            "-----\n"
          ]
        },
        {
          "output_type": "execute_result",
          "data": {
            "text/plain": [
              "[(1, 0), (2, 10), (3, 13), (4, 34)]"
            ]
          },
          "metadata": {},
          "execution_count": 5
        }
      ]
    }
  ],
  "metadata": {
    "colab": {
      "provenance": []
    },
    "kernelspec": {
      "display_name": "Python 3",
      "name": "python3"
    },
    "language_info": {
      "name": "python"
    }
  },
  "nbformat": 4,
  "nbformat_minor": 0
}